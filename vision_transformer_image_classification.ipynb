{
  "nbformat": 4,
  "nbformat_minor": 0,
  "metadata": {
    "colab": {
      "provenance": [],
      "gpuType": "T4"
    },
    "kernelspec": {
      "name": "python3",
      "display_name": "Python 3"
    },
    "language_info": {
      "name": "python"
    },
    "accelerator": "GPU"
  },
  "cells": [
    {
      "cell_type": "code",
      "execution_count": 1,
      "metadata": {
        "colab": {
          "base_uri": "https://localhost:8080/"
        },
        "id": "wor_b6DuR_iN",
        "outputId": "a634c676-766d-40ed-8acd-ba6c2353e6c3"
      },
      "outputs": [
        {
          "output_type": "execute_result",
          "data": {
            "text/plain": [
              "<torch._C.Generator at 0x7b5f491ab8d0>"
            ]
          },
          "metadata": {},
          "execution_count": 1
        }
      ],
      "source": [
        "import os\n",
        "import math\n",
        "import torch\n",
        "from torch import nn\n",
        "import numpy as np\n",
        "from tqdm import tqdm, trange\n",
        "import matplotlib.pyplot as plt\n",
        "from torchvision import transforms\n",
        "from torch.utils.data import DataLoader\n",
        "from torchvision.utils import make_grid\n",
        "from torchvision.datasets.mnist import MNIST\n",
        "\n",
        "\n",
        "np.random.seed(47)\n",
        "torch.manual_seed(47)"
      ]
    },
    {
      "cell_type": "code",
      "source": [
        "# defining all constants\n",
        "BATCH_SIZE = 128\n",
        "N_EPOCHS = 5\n",
        "LR = 0.005\n",
        "CRITERION = nn.CrossEntropyLoss()\n",
        "DEVICE = torch.device(\"cuda\" if torch.cuda.is_available() else \"cpu\")"
      ],
      "metadata": {
        "id": "F_v1NuBYVPBF"
      },
      "execution_count": 2,
      "outputs": []
    },
    {
      "cell_type": "code",
      "source": [
        "# defining all transforms over here\n",
        "tensor_transform = transforms.ToTensor()"
      ],
      "metadata": {
        "id": "wQcNMkPSTxaW"
      },
      "execution_count": 3,
      "outputs": []
    },
    {
      "cell_type": "code",
      "source": [
        "download = True if not os.path.exists('./dataset') else False\n",
        "\n",
        "train_set = MNIST(\n",
        "    root='./dataset',\n",
        "    train=True,\n",
        "    download=download,\n",
        "    transform=tensor_transform,\n",
        ")\n",
        "\n",
        "test_set = MNIST(\n",
        "    root='./dataset',\n",
        "    train=False,\n",
        "    download=download,\n",
        "    transform=tensor_transform,\n",
        ")\n",
        "\n",
        "print(len(train_set), len(test_set))"
      ],
      "metadata": {
        "colab": {
          "base_uri": "https://localhost:8080/"
        },
        "id": "zW_XIVBSS-PN",
        "outputId": "0b2d63f7-a5f5-470b-eabb-e1a29b4aea20"
      },
      "execution_count": 4,
      "outputs": [
        {
          "output_type": "stream",
          "name": "stdout",
          "text": [
            "Downloading http://yann.lecun.com/exdb/mnist/train-images-idx3-ubyte.gz\n",
            "Downloading http://yann.lecun.com/exdb/mnist/train-images-idx3-ubyte.gz to ./dataset/MNIST/raw/train-images-idx3-ubyte.gz\n"
          ]
        },
        {
          "output_type": "stream",
          "name": "stderr",
          "text": [
            "100%|██████████| 9912422/9912422 [00:00<00:00, 229512394.53it/s]"
          ]
        },
        {
          "output_type": "stream",
          "name": "stdout",
          "text": [
            "Extracting ./dataset/MNIST/raw/train-images-idx3-ubyte.gz to ./dataset/MNIST/raw\n"
          ]
        },
        {
          "output_type": "stream",
          "name": "stderr",
          "text": [
            "\n"
          ]
        },
        {
          "output_type": "stream",
          "name": "stdout",
          "text": [
            "\n",
            "Downloading http://yann.lecun.com/exdb/mnist/train-labels-idx1-ubyte.gz\n",
            "Downloading http://yann.lecun.com/exdb/mnist/train-labels-idx1-ubyte.gz to ./dataset/MNIST/raw/train-labels-idx1-ubyte.gz\n"
          ]
        },
        {
          "output_type": "stream",
          "name": "stderr",
          "text": [
            "100%|██████████| 28881/28881 [00:00<00:00, 29792349.69it/s]\n"
          ]
        },
        {
          "output_type": "stream",
          "name": "stdout",
          "text": [
            "Extracting ./dataset/MNIST/raw/train-labels-idx1-ubyte.gz to ./dataset/MNIST/raw\n",
            "\n",
            "Downloading http://yann.lecun.com/exdb/mnist/t10k-images-idx3-ubyte.gz\n",
            "Downloading http://yann.lecun.com/exdb/mnist/t10k-images-idx3-ubyte.gz to ./dataset/MNIST/raw/t10k-images-idx3-ubyte.gz\n"
          ]
        },
        {
          "output_type": "stream",
          "name": "stderr",
          "text": [
            "100%|██████████| 1648877/1648877 [00:00<00:00, 155190095.07it/s]\n"
          ]
        },
        {
          "output_type": "stream",
          "name": "stdout",
          "text": [
            "Extracting ./dataset/MNIST/raw/t10k-images-idx3-ubyte.gz to ./dataset/MNIST/raw\n",
            "\n",
            "Downloading http://yann.lecun.com/exdb/mnist/t10k-labels-idx1-ubyte.gz\n",
            "Downloading http://yann.lecun.com/exdb/mnist/t10k-labels-idx1-ubyte.gz to ./dataset/MNIST/raw/t10k-labels-idx1-ubyte.gz\n"
          ]
        },
        {
          "output_type": "stream",
          "name": "stderr",
          "text": [
            "100%|██████████| 4542/4542 [00:00<00:00, 6860111.19it/s]\n"
          ]
        },
        {
          "output_type": "stream",
          "name": "stdout",
          "text": [
            "Extracting ./dataset/MNIST/raw/t10k-labels-idx1-ubyte.gz to ./dataset/MNIST/raw\n",
            "\n",
            "60000 10000\n"
          ]
        }
      ]
    },
    {
      "cell_type": "code",
      "source": [
        "def show_examples(tensors, num_examples=BATCH_SIZE):\n",
        "    row_cnt = int(math.sqrt(num_examples))\n",
        "    image_data = tensors.detach().cpu()\n",
        "    image_grid = make_grid(image_data, nrow=row_cnt).permute(1, 2, 0)\n",
        "    plt.imshow(image_grid.clip(min=0, max=1))\n",
        "    plt.axis(\"off\")\n",
        "    plt.show()"
      ],
      "metadata": {
        "id": "zgRN9TVrTHam"
      },
      "execution_count": 5,
      "outputs": []
    },
    {
      "cell_type": "code",
      "source": [
        "image, label = train_set[0]\n",
        "print(image.shape, label)"
      ],
      "metadata": {
        "colab": {
          "base_uri": "https://localhost:8080/"
        },
        "id": "QAiUvK2FVkBU",
        "outputId": "4118db35-4f57-44b6-84be-6c04815b19f1"
      },
      "execution_count": 6,
      "outputs": [
        {
          "output_type": "stream",
          "name": "stdout",
          "text": [
            "torch.Size([1, 28, 28]) 5\n"
          ]
        }
      ]
    },
    {
      "cell_type": "code",
      "source": [
        "train_loader = DataLoader(\n",
        "    dataset=train_set,\n",
        "    batch_size=BATCH_SIZE,\n",
        "    shuffle=True,\n",
        ")\n",
        "\n",
        "test_loader = DataLoader(\n",
        "    dataset=test_set,\n",
        "    batch_size=BATCH_SIZE,\n",
        "    shuffle=False,\n",
        ")\n",
        "\n",
        "images, labels = next(iter(train_loader))\n",
        "print(images.shape, labels.shape)\n",
        "show_examples(images)"
      ],
      "metadata": {
        "colab": {
          "base_uri": "https://localhost:8080/",
          "height": 423
        },
        "id": "7qlXbHNZTHUS",
        "outputId": "e9dd8bc4-faff-4fc4-cd8b-9b201a5273b4"
      },
      "execution_count": 7,
      "outputs": [
        {
          "output_type": "stream",
          "name": "stdout",
          "text": [
            "torch.Size([128, 1, 28, 28]) torch.Size([128])\n"
          ]
        },
        {
          "output_type": "display_data",
          "data": {
            "text/plain": [
              "<Figure size 640x480 with 1 Axes>"
            ],
            "image/png": "[encoded data removed]"
          },
          "metadata": {}
        }
      ]
    },
    {
      "cell_type": "code",
      "source": [
        "def patchify(images, n_patches):\n",
        "    n, c, h, w = images.shape\n",
        "    assert h == w\n",
        "    patches = torch.zeros(n, n_patches ** 2, h*w*c // n_patches ** 2)\n",
        "    patch_size = h // n_patches\n",
        "\n",
        "    for idx, image in tqdm(enumerate(images)):\n",
        "        for i in range(n_patches):\n",
        "            for j in range(n_patches):\n",
        "                patch = image[:, i*patch_size:(i+1)*patch_size, j*patch_size:(j+1)*patch_size]\n",
        "                patches[idx, i*n_patches + j] = patch.flatten()\n",
        "    return patches"
      ],
      "metadata": {
        "id": "iL89j5yvf39w"
      },
      "execution_count": 8,
      "outputs": []
    },
    {
      "cell_type": "code",
      "source": [
        "def get_positional_encodings(sequence_length, d):\n",
        "    result = torch.ones(sequence_length, d)\n",
        "    for i in range(sequence_length):\n",
        "        for j in range(d):\n",
        "            result[i][j] = np.sin(i / (10000 ** (j/d))) if j % 2 == 0 else np.cos(i / (10000 ** ((j-1) / d)))\n",
        "    return result"
      ],
      "metadata": {
        "id": "lXshnN3mxG-I"
      },
      "execution_count": 9,
      "outputs": []
    },
    {
      "cell_type": "code",
      "source": [
        "class MultiHeadSelfAttention(nn.Module):\n",
        "    def __init__(self, hidden_d, n_heads=2):\n",
        "        super(MultiHeadSelfAttention, self).__init__()\n",
        "        self.d = hidden_d\n",
        "        self.n_heads = n_heads\n",
        "        assert self.d % self.n_heads == 0, f\"can't divide dimension {d} into {n_heads} heads\"\n",
        "        self.d_head = int(self.d / self.n_heads)\n",
        "        self.q_mappings = nn.ModuleList([nn.Linear(self.d_head, self.d_head) for _ in range(self.n_heads)])\n",
        "        self.k_mappings = nn.ModuleList([nn.Linear(self.d_head, self.d_head) for _ in range(self.n_heads)])\n",
        "        self.v_mappings = nn.ModuleList([nn.Linear(self.d_head, self.d_head) for _ in range(self.n_heads)])\n",
        "        self.softmax = nn.Softmax(dim=-1)\n",
        "\n",
        "    def forward(self, sequences):\n",
        "        result = []\n",
        "        for sequence in sequences:\n",
        "            seq_result = []\n",
        "            for head in range(self.n_heads):\n",
        "                q_mapping = self.q_mappings[head]\n",
        "                k_mapping = self.k_mappings[head]\n",
        "                v_mapping = self.v_mappings[head]\n",
        "                seq = sequence[:, head * self.d_head: (head+1) * self.d_head]\n",
        "                q, k, v = q_mapping(seq), k_mapping(seq), v_mapping(seq)\n",
        "                attention = self.softmax((q @ k.T) / (self.d_head ** 0.5))\n",
        "                seq_result.append(attention @ v)\n",
        "            result.append(torch.hstack(seq_result))\n",
        "        return torch.cat([torch.unsqueeze(res, dim=0) for res in result])\n"
      ],
      "metadata": {
        "id": "iKjGDYhdBtIe"
      },
      "execution_count": 10,
      "outputs": []
    },
    {
      "cell_type": "code",
      "source": [
        "class VisionTransformerBlock(nn.Module):\n",
        "    def __init__(self, n_heads, hidden_d, mlp_ratio=4):\n",
        "        super(VisionTransformerBlock, self).__init__()\n",
        "        self.n_heads = n_heads\n",
        "        self.d = hidden_d\n",
        "        self.mlp_ratio = mlp_ratio\n",
        "        self.norm_1 = nn.LayerNorm(self.d)\n",
        "        self.msa = MultiHeadSelfAttention(self.d, self.n_heads)\n",
        "        self.norm_2 = nn.LayerNorm(self.d)\n",
        "        self.mlp = nn.Sequential(\n",
        "            nn.Linear(self.d, self.d * self.mlp_ratio),\n",
        "            nn.GELU(),\n",
        "            nn.Linear(self.d * self.mlp_ratio, self.d),\n",
        "        )\n",
        "\n",
        "    def forward(self, x):\n",
        "        out = x + self.msa(self.norm_1(x))\n",
        "        return out + self.mlp(self.norm_2(out))\n"
      ],
      "metadata": {
        "id": "hzb79_XaJQpz"
      },
      "execution_count": 11,
      "outputs": []
    },
    {
      "cell_type": "code",
      "source": [
        "class VisionTransformerModel(nn.Module):\n",
        "    def __init__(\n",
        "        self,\n",
        "        input_shape=(1, 28, 28),\n",
        "        n_patches=7,\n",
        "        n_blocks=2,\n",
        "        hidden_d=8,\n",
        "        n_heads=2,\n",
        "        out_d=10\n",
        "    ):\n",
        "        super(VisionTransformerModel, self).__init__()\n",
        "        self.input_shape = input_shape\n",
        "        self.n_patches = n_patches\n",
        "        self.hidden_d = hidden_d\n",
        "        self.n_blocks = n_blocks\n",
        "        self.out_d = out_d\n",
        "        self.n_heads = n_heads\n",
        "\n",
        "        assert self.input_shape[1] % self.n_patches == 0, \"Input shape not entirely divisible by number of patches\"\n",
        "        assert self.input_shape[2] % self.n_patches == 0, \"Input shape not entirely divisible by number of patches\"\n",
        "\n",
        "        self.patch_size = (self.input_shape[1] // self.n_patches, self.input_shape[2] // self.n_patches)\n",
        "        self.input_d = int(self.input_shape[0] * self.patch_size[0] * self.patch_size[1])\n",
        "        self.linear_mapper = nn.Linear(self.input_d, self.hidden_d)\n",
        "        self.class_token = nn.Parameter(torch.rand(1, self.hidden_d))\n",
        "        self.register_buffer('positional_encodings', get_positional_encodings(self.n_patches ** 2 + 1, self.hidden_d), persistent=False)\n",
        "        self.blocks = nn.ModuleList([VisionTransformerBlock(self.n_heads, self.hidden_d) for _ in range(self.n_blocks)])\n",
        "        self.mlp = nn.Sequential(\n",
        "            nn.Linear(self.hidden_d, self.out_d),\n",
        "            nn.Softmax(dim=-1),\n",
        "        )\n",
        "\n",
        "    def forward(self, images):\n",
        "        n, c, h, w = images.shape\n",
        "        patches = patchify(images, self.n_patches).to(DEVICE)\n",
        "        tokens = self.linear_mapper(patches)\n",
        "        tokens = torch.cat((self.class_token.expand(n, 1, -1), tokens), dim=1)\n",
        "        out = tokens + self.positional_encodings.repeat(n, 1, 1)\n",
        "        for block in self.blocks:\n",
        "            out = block(out)\n",
        "        out = out[:, 0]\n",
        "        out = self.mlp(out)\n",
        "        return out"
      ],
      "metadata": {
        "id": "msiSjfaRWCoL"
      },
      "execution_count": 12,
      "outputs": []
    },
    {
      "cell_type": "code",
      "source": [
        "temp_model = VisionTransformerModel().to(DEVICE)\n",
        "random_test_data = torch.randn((10, 1, 28, 28)).to(DEVICE)\n",
        "output = temp_model(random_test_data)\n",
        "output.shape, output"
      ],
      "metadata": {
        "colab": {
          "base_uri": "https://localhost:8080/"
        },
        "id": "7azrVRfuqmHx",
        "outputId": "1b03585f-805f-4824-c925-fe18dec31c1d"
      },
      "execution_count": 13,
      "outputs": [
        {
          "output_type": "stream",
          "name": "stderr",
          "text": [
            "10it [00:00, 256.98it/s]\n"
          ]
        },
        {
          "output_type": "execute_result",
          "data": {
            "text/plain": [
              "(torch.Size([10, 10]),\n",
              " tensor([[0.0677, 0.0752, 0.3834, 0.0473, 0.0209, 0.0454, 0.0766, 0.0513, 0.0683,\n",
              "          0.1640],\n",
              "         [0.0687, 0.0802, 0.3745, 0.0499, 0.0220, 0.0480, 0.0754, 0.0487, 0.0663,\n",
              "          0.1663],\n",
              "         [0.0717, 0.0781, 0.3648, 0.0525, 0.0230, 0.0497, 0.0745, 0.0506, 0.0678,\n",
              "          0.1673],\n",
              "         [0.0676, 0.0838, 0.3748, 0.0550, 0.0243, 0.0510, 0.0805, 0.0501, 0.0660,\n",
              "          0.1469],\n",
              "         [0.0736, 0.0791, 0.3605, 0.0510, 0.0222, 0.0508, 0.0702, 0.0465, 0.0682,\n",
              "          0.1781],\n",
              "         [0.0684, 0.0868, 0.3815, 0.0532, 0.0219, 0.0465, 0.0761, 0.0472, 0.0612,\n",
              "          0.1573],\n",
              "         [0.0713, 0.0759, 0.3646, 0.0497, 0.0228, 0.0509, 0.0731, 0.0497, 0.0717,\n",
              "          0.1702],\n",
              "         [0.0678, 0.0807, 0.3912, 0.0486, 0.0201, 0.0441, 0.0736, 0.0477, 0.0630,\n",
              "          0.1631],\n",
              "         [0.0717, 0.0762, 0.3679, 0.0482, 0.0213, 0.0470, 0.0727, 0.0493, 0.0694,\n",
              "          0.1763],\n",
              "         [0.0711, 0.0784, 0.3716, 0.0517, 0.0225, 0.0477, 0.0753, 0.0504, 0.0677,\n",
              "          0.1636]], device='cuda:0', grad_fn=<SoftmaxBackward0>))"
            ]
          },
          "metadata": {},
          "execution_count": 13
        }
      ]
    },
    {
      "cell_type": "code",
      "source": [
        "def patchify(images, n_patches):\n",
        "    n, c, h, w = images.shape\n",
        "\n",
        "    assert h == w, \"Patchify method is implemented for square images only\"\n",
        "\n",
        "    patches = torch.zeros(n, n_patches ** 2, h * w * c // n_patches ** 2)\n",
        "    patch_size = h // n_patches\n",
        "\n",
        "    for idx, image in enumerate(images):\n",
        "        for i in range(n_patches):\n",
        "            for j in range(n_patches):\n",
        "                patch = image[:, i * patch_size: (i + 1) * patch_size, j * patch_size: (j + 1) * patch_size]\n",
        "                patches[idx, i * n_patches + j] = patch.flatten()\n",
        "    return patches"
      ],
      "metadata": {
        "id": "pcpVVRCdfvRA"
      },
      "execution_count": 14,
      "outputs": []
    },
    {
      "cell_type": "code",
      "source": [
        "model = VisionTransformerModel((1, 28, 28), n_patches=7, n_blocks=2, hidden_d=8, n_heads=2, out_d=10).to(DEVICE)\n",
        "optimizer = torch.optim.Adam(model.parameters(), lr=LR)\n",
        "\n",
        "for epoch in range(N_EPOCHS):\n",
        "    train_loss = 0.0\n",
        "    model.train()\n",
        "    for batch, targets in tqdm(train_loader, desc=f'epoch: {epoch+1}'):\n",
        "        batch = batch.to(DEVICE)\n",
        "        targets = targets.to(DEVICE)\n",
        "        predicted_targets = model(batch)\n",
        "        loss = CRITERION(predicted_targets, targets)\n",
        "        train_loss += loss.detach().cpu().item() / len(train_loader)\n",
        "        optimizer.zero_grad()\n",
        "        loss.backward()\n",
        "        optimizer.step()\n",
        "\n",
        "    print(f'train loss: {train_loss:.4f}')\n",
        "\n",
        "    model.eval()\n",
        "    with torch.inference_mode():\n",
        "        correct, total = 0, 0\n",
        "        test_loss = 0.0\n",
        "        for batch, targets in tqdm(test_loader, desc='inferencing....'):\n",
        "            batch, targets = batch.to(DEVICE), targets.to(DEVICE)\n",
        "            predicted_targets = model(batch)\n",
        "            loss = CRITERION(predicted_targets, targets)\n",
        "            test_loss += loss.detach().cpu().item() / len(test_loader)\n",
        "            correct += torch.sum(\n",
        "                torch.argmax(predicted_targets, dim=1) == targets\n",
        "            ).detach().cpu().item()\n",
        "            total += len(batch)\n",
        "        print(f'test loss: {test_loss:.4f}')\n",
        "        print(f'test accuracy: {correct/total * 100:.4f}')"
      ],
      "metadata": {
        "id": "MK5SRkZ5X0CK",
        "colab": {
          "base_uri": "https://localhost:8080/"
        },
        "outputId": "93f4bd2e-bd22-418f-9703-c8f33e8a16de"
      },
      "execution_count": 15,
      "outputs": [
        {
          "output_type": "stream",
          "name": "stderr",
          "text": [
            "epoch: 1: 100%|██████████| 469/469 [05:15<00:00,  1.49it/s]\n"
          ]
        },
        {
          "output_type": "stream",
          "name": "stdout",
          "text": [
            "train loss: 2.1229\n"
          ]
        },
        {
          "output_type": "stream",
          "name": "stderr",
          "text": [
            "inferencing....: 100%|██████████| 79/79 [00:27<00:00,  2.86it/s]\n"
          ]
        },
        {
          "output_type": "stream",
          "name": "stdout",
          "text": [
            "test loss: 1.9693\n",
            "test accuracy: 49.2700\n"
          ]
        },
        {
          "output_type": "stream",
          "name": "stderr",
          "text": [
            "epoch: 2: 100%|██████████| 469/469 [05:06<00:00,  1.53it/s]\n"
          ]
        },
        {
          "output_type": "stream",
          "name": "stdout",
          "text": [
            "train loss: 1.9020\n"
          ]
        },
        {
          "output_type": "stream",
          "name": "stderr",
          "text": [
            "inferencing....: 100%|██████████| 79/79 [00:26<00:00,  2.96it/s]\n"
          ]
        },
        {
          "output_type": "stream",
          "name": "stdout",
          "text": [
            "test loss: 1.8552\n",
            "test accuracy: 60.3200\n"
          ]
        },
        {
          "output_type": "stream",
          "name": "stderr",
          "text": [
            "epoch: 3: 100%|██████████| 469/469 [05:08<00:00,  1.52it/s]\n"
          ]
        },
        {
          "output_type": "stream",
          "name": "stdout",
          "text": [
            "train loss: 1.8192\n"
          ]
        },
        {
          "output_type": "stream",
          "name": "stderr",
          "text": [
            "inferencing....: 100%|██████████| 79/79 [00:26<00:00,  2.96it/s]\n"
          ]
        },
        {
          "output_type": "stream",
          "name": "stdout",
          "text": [
            "test loss: 1.7998\n",
            "test accuracy: 66.0500\n"
          ]
        },
        {
          "output_type": "stream",
          "name": "stderr",
          "text": [
            "epoch: 4: 100%|██████████| 469/469 [05:12<00:00,  1.50it/s]\n"
          ]
        },
        {
          "output_type": "stream",
          "name": "stdout",
          "text": [
            "train loss: 1.7982\n"
          ]
        },
        {
          "output_type": "stream",
          "name": "stderr",
          "text": [
            "inferencing....: 100%|██████████| 79/79 [00:26<00:00,  2.93it/s]\n"
          ]
        },
        {
          "output_type": "stream",
          "name": "stdout",
          "text": [
            "test loss: 1.8167\n",
            "test accuracy: 64.3400\n"
          ]
        },
        {
          "output_type": "stream",
          "name": "stderr",
          "text": [
            "epoch: 5: 100%|██████████| 469/469 [05:13<00:00,  1.49it/s]\n"
          ]
        },
        {
          "output_type": "stream",
          "name": "stdout",
          "text": [
            "train loss: 1.7851\n"
          ]
        },
        {
          "output_type": "stream",
          "name": "stderr",
          "text": [
            "inferencing....: 100%|██████████| 79/79 [00:27<00:00,  2.82it/s]"
          ]
        },
        {
          "output_type": "stream",
          "name": "stdout",
          "text": [
            "test loss: 1.7903\n",
            "test accuracy: 66.9400\n"
          ]
        },
        {
          "output_type": "stream",
          "name": "stderr",
          "text": [
            "\n"
          ]
        }
      ]
    },
    {
      "cell_type": "code",
      "source": [
        "torch.save(model, 'vit_model.pt')"
      ],
      "metadata": {
        "id": "20RMwEjjTHeH"
      },
      "execution_count": 16,
      "outputs": []
    }
  ]
}